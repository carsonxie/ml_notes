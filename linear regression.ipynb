{
 "cells": [
  {
   "cell_type": "markdown",
   "id": "e0146039",
   "metadata": {},
   "source": [
    "### 问题设定：\n",
    "单变量线性回归的一般形式： \\\n",
    "$y_i=\\beta_0 + \\beta_1x_i+\\epsilon_i$\\\n",
    "其中 $\\beta_1=\\frac{\\sum(x_i-\\bar{x})(y_i-\\bar{y})}{\\sum(x_i-\\bar{x})^2} = \\frac{Cov(x,y)}{Var(x)}$\\\n",
    "$\\beta_0=\\bar{y}-\\beta_1\\bar{x}$\n"
   ]
  },
  {
   "cell_type": "code",
   "execution_count": 15,
   "id": "39f3e5f7",
   "metadata": {},
   "outputs": [],
   "source": [
    "from __future__ import division\n",
    "\n",
    "#input: list\n",
    "def mean(x):\n",
    "    return sum(x) / float(len(x))\n",
    "\n",
    "'''input a list x, return variance, no constant term'''\n",
    "def variance(x):\n",
    "    n = len(x)\n",
    "    mean_x = mean(x)\n",
    "    \n",
    "    return sum([(x_i-mean_x)**2 for x_i in x])\n",
    "\n",
    "'''covariance = sum((x(i) - mean(x)) * (y(i) - mean(y)))\n",
    "return cov without constant term'''\n",
    "def covariance(x, y):\n",
    "    cov = 0.0\n",
    "    mean_x, mean_y = mean(x), mean(y)\n",
    "    for i in range(len(x)):\n",
    "        cov += (x[i] - mean_x) * (y[i] - mean_y)\n",
    "    return cov\n",
    "\n",
    "'''return beta_0 and beta_1 of a simple regression model\n",
    "with given x and y'''\n",
    "def least_square_fit(x, y):\n",
    "    beta_1 = covariance(x, y) / variance(x)\n",
    "    beta_0 = mean(y) - beta_1*mean(x)\n",
    "    return [beta_0, beta_1]\n",
    "\n",
    "'''return single predict value y_i with given beta0 beta1'''\n",
    "def predict_i(beta_0, beta_1, x_i):\n",
    "    return beta_1 * x_i + beta_0\n",
    "\n",
    "#return a list of all prediction value[y1,y2...yn]\n",
    "# with given x_test list\n",
    "def predict(beta_0, beta_1, x_test):\n",
    "    predictions = list()\n",
    "    for x_i in x_test:\n",
    "        yhat = beta_0 + beta_1 * x_i\n",
    "        predictions.append(yhat)\n",
    "    return predictions\n",
    "\n",
    "#reaturn error between true and prediction\n",
    "def error(beta_0, beta_1, x_i, y_i):\n",
    "    return y_i - predict_i(beta_0, beta_1, x_i)\n",
    "\n",
    "#接下计算R^2 会调用\n",
    "def sum_of_squared_errors(beta_0, beta_1, x, y):\n",
    "    return sum(error(beta_0, beta_1, x_i, y_i) ** 2\n",
    "               for x_i, y_i in zip(x, y))\n",
    "\n",
    "def total_sum_of_squares(y):\n",
    "    y_mean = mean(y)\n",
    "    de_mean = [y_i - y_mean for y_i in y]\n",
    "    return sum(v ** 2 for v in de_mean)\n",
    "\n",
    "#计算回归模型的R^2\n",
    "def r_squared(beta_0, beta_1, x, y):\n",
    "    return 1.0 - (sum_of_squared_errors(beta_0, beta_1, x, y) /\n",
    "                  total_sum_of_squares(y))\n",
    "\n",
    "#计算mean square error\n",
    "def mse(actual, predicted):\n",
    "    sum_error = 0.0\n",
    "    for i in range(len(actual)):\n",
    "        prediction_error = predicted[i] - actual[i]\n",
    "        sum_error += (prediction_error ** 2)\n",
    "    mean_error = sum_error / float(len(actual))\n",
    "    return mean_error"
   ]
  },
  {
   "cell_type": "code",
   "execution_count": null,
   "id": "52934d38",
   "metadata": {},
   "outputs": [],
   "source": [
    "#gd 解法, 输入数据x, y\n",
    "# 返回 模型参数\n",
    "def gradient_descent(x, y):\n",
    "    theta_0, theta_1 = 0, 0\n",
    "    rate = 0.001\n",
    "    epochs = 1000 #循环的次数\n",
    "    n = float(len(x))\n",
    "    \n",
    "    for i in range(epochs):\n",
    "        y_pred = [theta_1*x_i + theta_0 for x_i in x]\n",
    "        delta_y = [y_i - y_hat for y_i, y_hat in zip(y, y_pred)]\n",
    "        partical_theta1 = (-2/n)* sum([x_i * delta_y_i for x_i, delta_y_i in zip(x, delta_y)])\n",
    "        partical_theta0 = (-2/n)* sum(delta_y)  #partical derivative wrt to constant theta0\n",
    "\n",
    "        #update function\n",
    "        theta_1 = theta_1 - rate * partical_theta1\n",
    "        theta_0 = theta_0 - rate * partical_theta0\n",
    "    \n",
    "    return (theta_0, theta_1)\n"
   ]
  },
  {
   "cell_type": "code",
   "execution_count": 95,
   "id": "b6c27e80",
   "metadata": {},
   "outputs": [],
   "source": [
    "#生成数据\n",
    "import numpy as np\n",
    "import matplotlib.pyplot as plt\n",
    "from random import sample\n",
    "\n",
    "np.random.seed(1010)\n",
    "x = range(1, 50) #sample(range(1, 100), 50)\n",
    "y = [3 + 0.5*x_i + np.random.normal(0,5,1) for x_i in x]"
   ]
  },
  {
   "cell_type": "code",
   "execution_count": 96,
   "id": "a2b7997d",
   "metadata": {},
   "outputs": [
    {
     "name": "stdout",
     "output_type": "stream",
     "text": [
      "model para:  [1.41466204] [0.50299914]\n",
      "r2 of model  [0.66382434]\n",
      "mes of the model  [11.00909257]\n"
     ]
    },
    {
     "data": {
      "image/png": "[encoded data removed]",
      "text/plain": [
       "<Figure size 432x288 with 1 Axes>"
      ]
     },
     "metadata": {
      "needs_background": "light"
     },
     "output_type": "display_data"
    }
   ],
   "source": [
    "t0, t1 = least_square_fit(x, y)\n",
    "y_pred = predict(t0, t1, x)\n",
    "model_mse = mse(y[35:], y_pred[35:])\n",
    "r2 = r_squared(t0, t1, x, y)\n",
    "print('model para: ', t0, t1)\n",
    "print('r2 of model ', r2)\n",
    "print('mes of the model ', model_mse)\n",
    "\n",
    "\n",
    "plt.scatter(x, y)\n",
    "plt.plot(x, y_pred, color=\"red\", linewidth=1)\n",
    "plt.title(\"solve by least_square_fit\")\n",
    "plt.show()"
   ]
  },
  {
   "cell_type": "code",
   "execution_count": 97,
   "id": "a75c20c5",
   "metadata": {},
   "outputs": [
    {
     "name": "stdout",
     "output_type": "stream",
     "text": [
      "model para:  [0.55342446] [0.52910491]\n",
      "r2 of model  [0.66146543]\n",
      "mes of the model  [11.33011041]\n"
     ]
    },
    {
     "data": {
      "image/png": "[encoded data removed]",
      "text/plain": [
       "<Figure size 432x288 with 1 Axes>"
      ]
     },
     "metadata": {
      "needs_background": "light"
     },
     "output_type": "display_data"
    }
   ],
   "source": [
    "t0, t1 = gradient_descent(x, y)\n",
    "y_pred = predict(t0, t1, x)\n",
    "model_mse = mse(y[35:], y_pred[35:])\n",
    "r2 = r_squared(t0, t1, x, y)\n",
    "print('model para: ', t0, t1)\n",
    "print('r2 of model ', r2)\n",
    "print('mes of the model ', model_mse)\n",
    "\n",
    "\n",
    "plt.scatter(x, y)\n",
    "plt.plot(x, y_pred, color=\"green\", linewidth=3)\n",
    "plt.title(\"solve by gradient descend\")\n",
    "plt.show()"
   ]
  },
  {
   "cell_type": "code",
   "execution_count": 83,
   "id": "a31ef4ac",
   "metadata": {},
   "outputs": [
    {
     "name": "stdout",
     "output_type": "stream",
     "text": [
      "Coefficients: \n",
      " [938.23786125]\n",
      "Mean squared error: 2548.07\n",
      "Coefficient of determination: 0.47\n"
     ]
    },
    {
     "data": {
      "image/png": "[encoded data removed]",
      "text/plain": [
       "<Figure size 432x288 with 1 Axes>"
      ]
     },
     "metadata": {
      "needs_background": "light"
     },
     "output_type": "display_data"
    }
   ],
   "source": [
    "#例子\n",
    "\n",
    "# Code source: Jaques Grobler\n",
    "# License: BSD 3 clause\n",
    "\n",
    "import matplotlib.pyplot as plt\n",
    "import numpy as np\n",
    "from sklearn import datasets, linear_model\n",
    "from sklearn.metrics import mean_squared_error, r2_score\n",
    "\n",
    "# Load the diabetes dataset\n",
    "diabetes_X, diabetes_y = datasets.load_diabetes(return_X_y=True)\n",
    "\n",
    "# Use only one feature\n",
    "diabetes_X = diabetes_X[:, np.newaxis, 2]\n",
    "\n",
    "# Split the data into training/testing sets\n",
    "diabetes_X_train = diabetes_X[:-20]\n",
    "diabetes_X_test = diabetes_X[-20:]\n",
    "\n",
    "# Split the targets into training/testing sets\n",
    "diabetes_y_train = diabetes_y[:-20]\n",
    "diabetes_y_test = diabetes_y[-20:]\n",
    "\n",
    "# Create linear regression object\n",
    "regr = linear_model.LinearRegression()\n",
    "\n",
    "# Train the model using the training sets\n",
    "regr.fit(diabetes_X_train, diabetes_y_train)\n",
    "\n",
    "# Make predictions using the testing set\n",
    "diabetes_y_pred = regr.predict(diabetes_X_test)\n",
    "\n",
    "# The coefficients\n",
    "print(\"Coefficients: \\n\", regr.coef_)\n",
    "# The mean squared error\n",
    "print(\"Mean squared error: %.2f\" % mean_squared_error(diabetes_y_test, diabetes_y_pred))\n",
    "# The coefficient of determination: 1 is perfect prediction\n",
    "print(\"Coefficient of determination: %.2f\" % r2_score(diabetes_y_test, diabetes_y_pred))\n",
    "\n",
    "# Plot outputs\n",
    "plt.scatter(diabetes_X_test, diabetes_y_test, color=\"black\")\n",
    "plt.plot(diabetes_X_test, diabetes_y_pred, color=\"blue\", linewidth=3)\n",
    "plt.show()"
   ]
  },
  {
   "cell_type": "code",
   "execution_count": null,
   "id": "ba15fbcb",
   "metadata": {},
   "outputs": [],
   "source": []
  }
 ],
 "metadata": {
  "kernelspec": {
   "display_name": "Python 3",
   "language": "python",
   "name": "python3"
  },
  "language_info": {
   "codemirror_mode": {
    "name": "ipython",
    "version": 3
   },
   "file_extension": ".py",
   "mimetype": "text/x-python",
   "name": "python",
   "nbconvert_exporter": "python",
   "pygments_lexer": "ipython3",
   "version": "3.8.8"
  }
 },
 "nbformat": 4,
 "nbformat_minor": 5
}
