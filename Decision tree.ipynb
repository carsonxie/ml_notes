{
 "cells": [
  {
   "cell_type": "markdown",
   "id": "6a14380f",
   "metadata": {},
   "source": [
    "## Decision tree learning pros and cons\n",
    "### Advantages:\n",
    "\n",
    "Easy to understand and interpret, perfect for visual representation. This is an example of a white box model, which closely mimics the human decision-making process.\\\n",
    "\n",
    "Can work with numerical and categorical features.\\\n",
    "\n",
    "Requires little data preprocessing: no need for one-hot encoding, dummy variables, and so on.\n",
    "\n",
    "Non-parametric model: no assumptions about the shape of data.\n",
    "Fast for inference.\n",
    "\n",
    "Feature selection happens automatically: unimportant features will not influence the result. The presence of features that depend on each other (multicollinearity) also doesn't affect the quality.\n",
    "\n",
    "\n",
    "### Disadvantages:\n",
    "\n",
    "It tends to overfit. This usually can be mitigated in one of three ways:\n",
    "Limiting tree depth ...\n",
    "\n",
    "优点\n",
    "\n",
    "决策树易于理解和解释，可以可视化分析，容易提取出规则；\n",
    "可以同时处理标称型和数值型数据；\n",
    "比较适合处理有缺失属性的样本；\n",
    "能够处理不相关的特征；\n",
    "测试数据集时，运行速度比较快；\n",
    "在相对短的时间内能够对大型数据源做出可行且效果良好的结果。\n",
    "缺点\n",
    "\n",
    "容易发生过拟合（随机森林可以很大程度上减少过拟合）；\n",
    "容易忽略数据集中属性的相互关联；"
   ]
  },
  {
   "cell_type": "code",
   "execution_count": 14,
   "id": "19bf230d",
   "metadata": {},
   "outputs": [
    {
     "name": "stderr",
     "output_type": "stream",
     "text": [
      "C:\\Users\\carso\\anaconda3\\lib\\site-packages\\seaborn\\_decorators.py:36: FutureWarning: Pass the following variables as keyword args: x, y. From version 0.12, the only valid positional argument will be `data`, and passing other arguments without an explicit keyword will result in an error or misinterpretation.\n",
      "  warnings.warn(\n"
     ]
    },
    {
     "data": {
      "text/plain": [
       "Text(0.5, 1.0, 'Entropy: -plog(p)')"
      ]
     },
     "execution_count": 14,
     "metadata": {},
     "output_type": "execute_result"
    },
    {
     "data": {
      "image/png": "[encoded data removed]",
      "text/plain": [
       "<Figure size 432x288 with 1 Axes>"
      ]
     },
     "metadata": {},
     "output_type": "display_data"
    }
   ],
   "source": [
    "import numpy as np\n",
    "import math\n",
    "import seaborn as sns\n",
    "import matplotlib.pyplot as plt\n",
    "%matplotlib inline\n",
    "plt.style.use('ggplot')\n",
    "\n",
    "x = np.linspace(0.0000001, 1.0, num = 200)\n",
    "y = [-x_i*math.log(x_i) for x_i in x]\n",
    "sns.lineplot(x,y).set_title('Entropy: -plog(p)')\n"
   ]
  },
  {
   "cell_type": "code",
   "execution_count": 74,
   "id": "42e551fb",
   "metadata": {},
   "outputs": [],
   "source": [
    "from collections import defaultdict\n",
    "from collections import Counter\n",
    "import math\n",
    "from functools import partial\n",
    "\n",
    "# 输入每一种标签class的概率\n",
    "def entropy(class_probs):\n",
    "    return sum(-p * math.log(p,2)\n",
    "              for p in class_probs if p>0)  #0概率跳过\n",
    "\n",
    "# 根据原始数据计算每一类的概率probs\n",
    "def class_probs(labels):\n",
    "    total_counts = len(labels)\n",
    "    return [count / total_counts\n",
    "           for count in Counter(labels).values()]\n",
    "\n",
    "# labeled_data: pari (input, label)\n",
    "def data_entropy(labeled_data):\n",
    "    labels = [label for _, label in labeled_data]\n",
    "    probs = class_probs(labels)\n",
    "    \n",
    "    return entropy(probs)\n",
    "\n",
    "\n",
    "# 计算 S 分为 S1 S2 ... Sp 子集后的信息熵\n",
    "# 输入为 类别标签数据 [1,1,1, 0,0]\n",
    "def partition_entropy(subsets):\n",
    "    total_count = sum(len(subset) for subset in subsets)\n",
    "    \n",
    "\n",
    "    return sum( data_entropy(subset) * len(subset) / total_count\n",
    "                for subset in subsets )\n",
    "\n",
    "# 输入例子\n",
    "# 9 1s and 5 0s\n",
    "# a = [0, 0, 0, 0, 0, 1, 1, 1, 1, 1, 1, 1, 1, 1]\n",
    "# entropy(class_probs(a))\n",
    "# =0.940285\n",
    "   \n",
    "# ID3 算法\n",
    "# 采用贪心算法，只考虑当前最优点\n",
    "# input:(attritube_dict, label)\n",
    "# return: {attribute_value -> inputs}\n",
    "def partition_by(inputs, attribute):\n",
    "    groups = defaultdict(list)\n",
    "    \n",
    "    for _input in inputs:\n",
    "        key = _input[0][attribute] # get the value of the specified attribute\n",
    "        groups[key].append(_input) # then add this input to the correct list\n",
    "        \n",
    "    return groups\n",
    "\n",
    "\n",
    "# 计算当前partition方式的entropy\n",
    "def partition_entropy_by(inputs, attribute):\n",
    "    partitions = partition_by(inputs, attribute)\n",
    "    \n",
    "    return partition_entropy(partitions.values())\n",
    "\n",
    "\n",
    "# test above\n",
    "# for key in ['Weather','Temp','Humd','Windy']:\n",
    "#     print(key, partition_entropy_by(inputs2, key))\n",
    "\n",
    "########################\n",
    "# build tree\n",
    "# predict 结果，根据现有的树\n",
    "def predict(tree, _input):\n",
    "    #if leaf node return its value\n",
    "    if tree in [True, False]:\n",
    "        return tree\n",
    "    \n",
    "    # 要根据attribute 继续分\n",
    "    # dict 的key是attritube的值， 比如 {'weather':'rain', ...}, key是下雨\n",
    "    attritube, subtree_dict = tree\n",
    "    subtree_key = _input.get(attritube)\n",
    "    \n",
    "    if subtree_key not in subtree_dict:\n",
    "        subtree_key = None\n",
    "    \n",
    "    # 选对应的子树\n",
    "    subtree = subtree_dict[subtree_key]\n",
    "    return predict(subtree, _input)\n",
    "\n",
    "# 最后一步\n",
    "# 构建树, 第一步所有节点都为候选\n",
    "def build_tree_id3(inputs, split_candidates=None):\n",
    "    if split_candidates == None:\n",
    "        split_candidates = inputs[0][0].keys()\n",
    "    \n",
    "    num_inputs = len(inputs)\n",
    "    num_trues = len([label for item, label in inputs if label])\n",
    "    num_falses = num_inputs - num_trues\n",
    "    \n",
    "    # 计算输入数据的 T 和 F\n",
    "    # 没有 T， 该subset很纯，直接返回 F\n",
    "    if num_trues == 0: return False \n",
    "    if num_falses == 0: return True\n",
    "    \n",
    "    # 分割用完所有属性了, 返回当前最多的标签类别\n",
    "    if not split_candidates:\n",
    "        if num_trues >= num_false:\n",
    "            return False \n",
    "        else:\n",
    "            return True\n",
    "        \n",
    "    \n",
    "    # 返回 熵 最大的节点\n",
    "    best_attribute = min(split_candidates,\n",
    "                         key=partial(partition_entropy_by, inputs))\n",
    "    \n",
    "    partitions = partition_by(inputs, best_attribute)\n",
    "    new_candidates = [a for a in split_candidates if a != best_attribute]\n",
    "    \n",
    "    #递归建立子树\n",
    "    subtrees = { attribute_value : build_tree_id3(subset, new_candidates)\n",
    "                for attribute_value, subset in partitions.items() }\n",
    "    \n",
    "    #默认情况\n",
    "    subtrees[None] = num_trues > num_falses\n",
    "    \n",
    "    \n",
    "    return (best_attribute, subtrees)\n",
    "    \n",
    "    "
   ]
  },
  {
   "cell_type": "code",
   "execution_count": 82,
   "id": "919eaf6d",
   "metadata": {},
   "outputs": [
    {
     "name": "stdout",
     "output_type": "stream",
     "text": [
      "first split entropy:\n",
      "Weather 0.6935361388961919\n",
      "Temp 0.9110633930116763\n",
      "Humd 0.7884504573082896\n",
      "Windy 0.8921589282623617\n",
      "-----------------\n",
      "building the tree\n",
      "tree looks like: ('Weather', {'rain': ('Humd', {'high': False, 'mid': True, None: False}), 'cloudy': True, 'sunny': ('Windy', {'no': True, 'yes': False, None: True}), None: True})\n",
      "True\n",
      "True\n"
     ]
    }
   ],
   "source": [
    "if __name__ == \"__main__\":\n",
    "    \n",
    "    inputs2 = [\n",
    "        ({'Weather':'rain','Temp':'hot','Humd':'high','Windy':'no'},   False),\n",
    "        ({'Weather':'rain','Temp':'hot','Humd':'high','Windy':'yes'},  False),\n",
    "        ({'Weather':'cloudy','Temp':'hot','Humd':'high','Windy':'no'},  True),\n",
    "        ({'Weather':'sunny','Temp':'warm','Humd':'high','Windy':'no'},  True),\n",
    "        ({'Weather':'sunny','Temp':'cool','Humd':'mid','Windy':'no'},      True),\n",
    "        ({'Weather':'sunny','Temp':'cool','Humd':'mid','Windy':'yes'},    False),\n",
    "        ({'Weather':'cloudy','Temp':'cool','Humd':'mid','Windy':'yes'},        True),\n",
    "        ({'Weather':'rain','Temp':'warm','Humd':'high','Windy':'no'}, False),\n",
    "        ({'Weather':'rain','Temp':'cool','Humd':'mid','Windy':'no'},      True),\n",
    "        ({'Weather':'sunny','Temp':'warm','Humd':'mid','Windy':'no'}, True),\n",
    "        ({'Weather':'rain','Temp':'warm','Humd':'mid','Windy':'yes'},True),\n",
    "        ({'Weather':'cloudy','Temp':'warm','Humd':'high','Windy':'yes'},    True),\n",
    "        ({'Weather':'cloudy','Temp':'hot','Humd':'mid','Windy':'no'},      True),\n",
    "        ({'Weather':'sunny','Temp':'warm','Humd':'high','Windy':'yes'},False)\n",
    "    ]\n",
    "    \n",
    "    \n",
    "    print('first split entropy:')\n",
    "    for key in ['Weather','Temp','Humd','Windy']:\n",
    "        print(key, partition_entropy_by(inputs2, key))\n",
    "    \n",
    "    print('-----------------')\n",
    "    print(\"building the tree\")\n",
    "    tree = build_tree_id3(inputs2)\n",
    "    print('tree looks like:', tree)\n",
    "    \n",
    "    print(predict(tree, { \"Weather\" : \"cool\",\n",
    "     \"temp\" : \"warm\",\n",
    "     \"Humd\" : \"high\",\n",
    "     \"Windy\" : \"yes\"} ))\n",
    "\n",
    "    #缺失值\n",
    "    print(predict(tree, {'Weather' : 'cool'}))"
   ]
  },
  {
   "cell_type": "code",
   "execution_count": 86,
   "id": "42ceb10f",
   "metadata": {},
   "outputs": [
    {
     "name": "stdout",
     "output_type": "stream",
     "text": [
      "False\n",
      "True\n"
     ]
    }
   ],
   "source": [
    "print(predict(tree, { \"Weather\" : \"sunny\",\n",
    "     \"temp\" : \"hot\",\n",
    "     \"Humd\" : \"high\",\n",
    "     \"Windy\" : \"yes\"} ))\n",
    "\n",
    "    #缺失值\n",
    "print(predict(tree, {'Weather' : 'cool'}))"
   ]
  },
  {
   "cell_type": "code",
   "execution_count": 58,
   "id": "b65af361",
   "metadata": {},
   "outputs": [],
   "source": [
    "\n",
    "inputs2 = [\n",
    "        ({'Weather':'rain','Temp':'hot','Humd':'high','Windy':'no'},   False),\n",
    "        ({'Weather':'rain','Temp':'hot','Humd':'high','Windy':'yes'},  False),\n",
    "        ({'Weather':'cloudy','Temp':'hot','Humd':'high','Windy':'no'},  True),\n",
    "        ({'Weather':'sunny','Temp':'warm','Humd':'high','Windy':'no'},  True),\n",
    "        ({'Weather':'sunny','Temp':'cool','Humd':'mid','Windy':'no'},      True),\n",
    "        ({'Weather':'sunny','Temp':'cool','Humd':'mid','Windy':'yes'},    False),\n",
    "        ({'Weather':'cloudy','Temp':'cool','Humd':'mid','Windy':'yes'},        True),\n",
    "        ({'Weather':'rain','Temp':'warm','Humd':'high','Windy':'no'}, False),\n",
    "        ({'Weather':'rain','Temp':'cool','Humd':'mid','Windy':'no'},      True),\n",
    "        ({'Weather':'sunny','Temp':'warm','Humd':'mid','Windy':'no'}, True),\n",
    "        ({'Weather':'rain','Temp':'warm','Humd':'mid','Windy':'yes'},True),\n",
    "        ({'Weather':'cloudy','Temp':'warm','Humd':'high','Windy':'yes'},    True),\n",
    "        ({'Weather':'cloudy','Temp':'hot','Humd':'mid','Windy':'no'},      True),\n",
    "        ({'Weather':'sunny','Temp':'warm','Humd':'high','Windy':'yes'},False)\n",
    "    ]\n",
    "\n",
    "#inputs[0][0].get('Weather') # get frist attr value 'rain'"
   ]
  },
  {
   "cell_type": "code",
   "execution_count": 65,
   "id": "a74ab66a",
   "metadata": {},
   "outputs": [
    {
     "data": {
      "text/plain": [
       "'Senior'"
      ]
     },
     "execution_count": 65,
     "metadata": {},
     "output_type": "execute_result"
    }
   ],
   "source": [
    "inputs[0][0].get('level')"
   ]
  },
  {
   "cell_type": "code",
   "execution_count": 87,
   "id": "b3849d5f",
   "metadata": {},
   "outputs": [
    {
     "name": "stdout",
     "output_type": "stream",
     "text": [
      "3145\n"
     ]
    }
   ],
   "source": [
    "\n",
    "from functools import partial\n",
    "  \n",
    "# A normal function\n",
    "def f(a, b, c, x):\n",
    "    return 1000*a + 100*b + 10*c + x\n",
    "  \n",
    "# A partial function that calls f with\n",
    "# a as 3, b as 1 and c as 4.\n",
    "g = partial(f, 3, 1, 4)\n",
    "  \n",
    "# Calling g()\n",
    "print(g(5))"
   ]
  },
  {
   "cell_type": "code",
   "execution_count": null,
   "id": "daf33dcc",
   "metadata": {},
   "outputs": [],
   "source": []
  }
 ],
 "metadata": {
  "kernelspec": {
   "display_name": "Python 3",
   "language": "python",
   "name": "python3"
  },
  "language_info": {
   "codemirror_mode": {
    "name": "ipython",
    "version": 3
   },
   "file_extension": ".py",
   "mimetype": "text/x-python",
   "name": "python",
   "nbconvert_exporter": "python",
   "pygments_lexer": "ipython3",
   "version": "3.8.8"
  }
 },
 "nbformat": 4,
 "nbformat_minor": 5
}
